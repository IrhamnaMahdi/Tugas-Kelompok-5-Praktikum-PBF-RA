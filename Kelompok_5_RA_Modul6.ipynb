{
  "nbformat": 4,
  "nbformat_minor": 0,
  "metadata": {
    "colab": {
      "provenance": []
    },
    "kernelspec": {
      "name": "python3",
      "display_name": "Python 3"
    },
    "language_info": {
      "name": "python"
    }
  },
  "cells": [
    {
      "cell_type": "code",
      "execution_count": 9,
      "metadata": {
        "id": "jN5M4d5Cv2hj",
        "outputId": "a609d401-ba8d-4766-8c69-b937a34e2ecf",
        "colab": {
          "base_uri": "https://localhost:8080/"
        }
      },
      "outputs": [
        {
          "output_type": "stream",
          "name": "stdout",
          "text": [
            "Pilih kriteria untuk mengurutkan rekomendasi:\n",
            "1. Berdasarkan Rating\n",
            "2. Berdasarkan Jumlah Dipinjam\n",
            "Masukkan pilihan (1/2): 2\n",
            "Masukkan jumlah rekomendasi yang diinginkan: 5\n",
            "Rekomendasi Buku:\n",
            "1. Khazanah Bahasa - Ahmad Bahtiar, M.hum. dkk (Rating: 4.2, Jumlah Dipinjam: 30)\n",
            "2. The Synergy Book of A Rapid Course In English Language - C.J. Daswani (Rating: 4.9, Jumlah Dipinjam: 30)\n",
            "3. Jejak Langkah - Pramoedya Ananta Toer (Rating: 4.3, Jumlah Dipinjam: 30)\n",
            "4. One Piece vol. 105 - Eiichiro Oda (Rating: 4.7, Jumlah Dipinjam: 30)\n",
            "5. Dilan 1990 - Pidi Baiq (Rating: 4.1, Jumlah Dipinjam: 30)\n"
          ]
        }
      ],
      "source": [
        "import pandas as pd\n",
        "\n",
        "# Fungsi untuk membaca dataset dari file Excel\n",
        "def baca_dataset(file_path):\n",
        "    return pd.read_excel(file_path)\n",
        "\n",
        "# Fungsi untuk menampilkan rekomendasi buku\n",
        "def tampilkan_rekomendasi(dataset, kriteria, jumlah_rekomendasi):\n",
        "    # Mengurutkan dataset berdasarkan kriteria yang dipilih\n",
        "    dataset_urut = sorted(dataset, key=kriteria, reverse=True)\n",
        "\n",
        "    # Mengambil jumlah rekomendasi sesuai dengan input user\n",
        "    rekomendasi = dataset_urut[:jumlah_rekomendasi]\n",
        "\n",
        "    # Menampilkan rekomendasi buku\n",
        "    print(\"Rekomendasi Buku:\")\n",
        "    for idx, buku in enumerate(rekomendasi, start=1):\n",
        "        print(f\"{idx}. {buku['Judul Buku']} - {buku['Penulis']} (Rating: {buku['Rating']}, Jumlah Dipinjam: {buku['Jumlah Dipinjam']})\")\n",
        "\n",
        "# Main function\n",
        "def main():\n",
        "    # Baca dataset dari file Excel\n",
        "    dataset = baca_dataset('book.xlsx').to_dict('records')\n",
        "\n",
        "    # User memilih kriteria untuk mengurutkan rekomendasi\n",
        "    print(\"Pilih kriteria untuk mengurutkan rekomendasi:\")\n",
        "    print(\"1. Berdasarkan Rating\")\n",
        "    print(\"2. Berdasarkan Jumlah Dipinjam\")\n",
        "    pilihan = int(input(\"Masukkan pilihan (1/2): \"))\n",
        "\n",
        "    if pilihan == 1:\n",
        "        kriteria = lambda buku: buku['Rating']\n",
        "    elif pilihan == 2:\n",
        "        kriteria = lambda buku: buku['Jumlah Dipinjam']\n",
        "    else:\n",
        "        print(\"Pilihan tidak valid.\")\n",
        "        return\n",
        "\n",
        "    # User memasukkan jumlah rekomendasi yang diinginkan\n",
        "    jumlah_rekomendasi = int(input(\"Masukkan jumlah rekomendasi yang diinginkan: \"))\n",
        "\n",
        "    # Menampilkan rekomendasi buku berdasarkan kriteria yang dipilih\n",
        "    tampilkan_rekomendasi(dataset, kriteria, jumlah_rekomendasi)\n",
        "\n",
        "if __name__ == \"__main__\":\n",
        "    main()\n"
      ]
    }
  ]
}