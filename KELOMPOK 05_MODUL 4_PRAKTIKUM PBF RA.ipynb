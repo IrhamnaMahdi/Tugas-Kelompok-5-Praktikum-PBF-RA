{
  "nbformat": 4,
  "nbformat_minor": 0,
  "metadata": {
    "colab": {
      "provenance": []
    },
    "kernelspec": {
      "name": "python3",
      "display_name": "Python 3"
    },
    "language_info": {
      "name": "python"
    }
  },
  "cells": [
    {
      "cell_type": "code",
      "execution_count": null,
      "metadata": {
        "id": "XGpKYEwurtuH",
        "outputId": "256e42f3-b685-49f8-f0d8-59b838635eeb",
        "colab": {
          "base_uri": "https://localhost:8080/"
        }
      },
      "outputs": [
        {
          "output_type": "stream",
          "name": "stdout",
          "text": [
            "Outlier detected using Z-Score method: []\n",
            "Outlier detected using Modified Z-Score method: [1000]\n",
            "Outlier detected using Percentile method: [1000]\n"
          ]
        }
      ],
      "source": [
        "def outlier_detector(method):\n",
        "    def z_score_outlier(data):\n",
        "        import numpy as np\n",
        "        threshold = 3\n",
        "        mean = np.mean(data)\n",
        "        std_dev = np.std(data)\n",
        "        z_scores = [(x - mean) / std_dev for x in data]\n",
        "        outliers = [data[i] for i in range(len(data)) if abs(z_scores[i]) > threshold]\n",
        "        return outliers\n",
        "\n",
        "    def modified_z_score_outlier(data):\n",
        "        import numpy as np\n",
        "        threshold = 3.5\n",
        "        median = np.median(data)\n",
        "        median_absolute_deviation = np.median([np.abs(x - median) for x in data])\n",
        "        modified_z_scores = [0.6745 * (x - median) / median_absolute_deviation for x in data]\n",
        "        outliers = [data[i] for i in range(len(data)) if abs(modified_z_scores[i]) > threshold]\n",
        "        return outliers\n",
        "\n",
        "    def percentile_outlier(data):\n",
        "        import numpy as np\n",
        "        q25, q75 = np.percentile(data, [25, 75])\n",
        "        iqr = q75 - q25\n",
        "        lower_bound = q25 - (1.5 * iqr)\n",
        "        upper_bound = q75 + (1.5 * iqr)\n",
        "        outliers = [x for x in data if x < lower_bound or x > upper_bound]\n",
        "        return outliers\n",
        "\n",
        "    def detector(data):\n",
        "        if method == 'z_score':\n",
        "            return z_score_outlier(data)\n",
        "        elif method == 'modified_z_score':\n",
        "            return modified_z_score_outlier(data)\n",
        "        elif method == 'percentile':\n",
        "            return percentile_outlier(data)\n",
        "        else:\n",
        "            raise ValueError(\"Invalid method. Available methods: 'z_score', 'modified_z_score', 'percentile'\")\n",
        "\n",
        "    return detector\n",
        "\n",
        "# Contoh penggunaan\n",
        "data = [1, 2, 3, 4, 5, 6, 7, 1000]  # Data dengan outlier yang jelas\n",
        "detect_outlier_z_score = outlier_detector('z_score')\n",
        "detect_outlier_modified_z_score = outlier_detector('modified_z_score')\n",
        "detect_outlier_percentile = outlier_detector('percentile')\n",
        "\n",
        "print(\"Outlier detected using Z-Score method:\", detect_outlier_z_score(data))\n",
        "print(\"Outlier detected using Modified Z-Score method:\", detect_outlier_modified_z_score(data))\n",
        "print(\"Outlier detected using Percentile method:\", detect_outlier_percentile(data))"
      ]
    }
  ]
}