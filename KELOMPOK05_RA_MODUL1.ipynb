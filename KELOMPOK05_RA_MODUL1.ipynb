{
  "nbformat": 4,
  "nbformat_minor": 0,
  "metadata": {
    "colab": {
      "provenance": []
    },
    "kernelspec": {
      "name": "python3",
      "display_name": "Python 3"
    },
    "language_info": {
      "name": "python"
    }
  },
  "cells": [
    {
      "cell_type": "markdown",
      "source": [
        "**TUGAS KELOMPOK PRAKTIKUM PBF 1**\n",
        "\n",
        "**ANGGOTA KELOMPOK \\:**\n",
        "\n",
        "1. Irhamna Mahdi_122450049\n",
        "\n",
        "2. Salwa Farhanatussaidah_122450055\n",
        "\n",
        "3. Ganiya Syazwa_122450073\n",
        "\n",
        "4. Reynaldi Rahmad_122450088\n",
        "\n",
        "5. Syalaisha Andina Putriansyah_122450121\n",
        "\n",
        "\n"
      ],
      "metadata": {
        "id": "7x-jW88CiPGi"
      }
    },
    {
      "cell_type": "markdown",
      "source": [
        "**Tugas Jurnal Kelompok (Tahun 2023)**"
      ],
      "metadata": {
        "id": "Z5-jbTePlCEZ"
      }
    },
    {
      "cell_type": "markdown",
      "source": [
        "1. Buatlah fungsi komposisi dengan nilai f(x) = 4^x, g(x) = x^x, dan h(x) = 3 + x dengan pemrograman prosedural tiga fungsi dan pemrograman fungsional dengan lambda."
      ],
      "metadata": {
        "id": "9pMKKplf-kip"
      }
    },
    {
      "cell_type": "code",
      "execution_count": null,
      "metadata": {
        "colab": {
          "base_uri": "https://localhost:8080/"
        },
        "id": "D0keyVeK-eGJ",
        "outputId": "d969c6ee-1603-4302-977a-71422739766a"
      },
      "outputs": [
        {
          "output_type": "execute_result",
          "data": {
            "text/plain": [
              "147"
            ]
          },
          "metadata": {},
          "execution_count": 2
        }
      ],
      "source": [
        "def f(x):\n",
        "  return 4*x\n",
        "def g(x):\n",
        "  return x*x\n",
        "def h(x):\n",
        "  return 3+x\n",
        "\n",
        "# Composition\n",
        "h(g(f(3)))"
      ]
    },
    {
      "cell_type": "code",
      "source": [
        "def compose(f1, f2):\n",
        "  return lambda v: f1(f2(v))\n",
        "\n",
        "hgf = compose(h, compose(g,f))\n",
        "hgf(4)"
      ],
      "metadata": {
        "colab": {
          "base_uri": "https://localhost:8080/"
        },
        "id": "ZJfEGVZg-rGG",
        "outputId": "763d2fcc-4fe2-41eb-be4f-0385a47d11bb"
      },
      "execution_count": null,
      "outputs": [
        {
          "output_type": "execute_result",
          "data": {
            "text/plain": [
              "259"
            ]
          },
          "metadata": {},
          "execution_count": 4
        }
      ]
    },
    {
      "cell_type": "markdown",
      "source": [
        "2. Buatlah pemrograman berbasis objek pada soal no.1"
      ],
      "metadata": {
        "id": "4fX7Xv-uAOMy"
      }
    },
    {
      "cell_type": "code",
      "source": [
        "class Value:\n",
        "  def __init__(self, value):\n",
        "    self.value = value\n",
        "# `value >> func`\n",
        "  def __rshift__(self, other):\n",
        "    return other(self.value)\n",
        "def f(x):\n",
        "  return Value(4*x)\n",
        "def g(x):\n",
        "  return Value(x * x)\n",
        "def h(x):\n",
        "  return Value(3 + x)\n",
        "# this is known as \"continuation passing\" style\n",
        "# evaluate this, then apply that value\n",
        "result = Value(2) >> f >> g >> h\n",
        "result.value"
      ],
      "metadata": {
        "colab": {
          "base_uri": "https://localhost:8080/"
        },
        "id": "Q3QiB4EzAQkR",
        "outputId": "0d75423f-ac17-4e48-f119-771a3dd6028f"
      },
      "execution_count": null,
      "outputs": [
        {
          "output_type": "execute_result",
          "data": {
            "text/plain": [
              "67"
            ]
          },
          "metadata": {},
          "execution_count": 6
        }
      ]
    },
    {
      "cell_type": "markdown",
      "source": [
        "3. Berikan Analisis Komparasi soal 1 dan 2\n",
        "\n",
        "=> Analisis komparasi pada soal 1(Prosedural) :\n",
        "- Pemrogram yang lebih terbiasa dengan gaya pemrograman imperatif atau prosedural cenderung lebih mudah memahami pendekatan ini.\n",
        "- Untuk membuat penggunaan ulang lebih mudah, Anda dapat memisahkan definisi setiap fungsi.\n",
        "\n",
        "=> Analisis komparasi pada soal 2(Fungsi Lambda) :\n",
        "- Dengan fungsi lambda, kita dapat menulis kode yang lebih ringkas dan terkonsentrasi.\n",
        "- Cocok untuk kasus di mana paradigma fungsional lebih disukai atau ketika kita ingin menghindari pembuatan fungsi terpisah yang hanya digunakan sekali.\n",
        "\n",
        "Kesimpulannya bahwa pendekatan pemrograman fungsional dengan lambda pada soal 2 lebih cocok untuk menulis kode yang lebih ringkas atau menggunakan paradigma fungsional secara eksplisit, sedangkan pendekatan pemrograman prosedural pada soal 1 lebih baik untuk situasi di mana kita perlu mendefinisikan fungsi-fungsi terpisah yang mungkin akan digunakan kembali atau membutuhkan penanganan yang lebih rinci. Pemilihan antara kedua pendekatan ini tergantung pada kebutuhan dan preferensi masing-masing."
      ],
      "metadata": {
        "id": "yz0oh_fRgEGS"
      }
    },
    {
      "cell_type": "markdown",
      "source": [
        "4. Buatlah satu penyelesaian Luas Segitiga dengan menggunakan Pemrograman berorientasi Objek dan Pemrograman berbasis Fungsi. uji dengan membandingkan mana yang tercepat komputasinya."
      ],
      "metadata": {
        "id": "LRFrQtAEAgKA"
      }
    },
    {
      "cell_type": "code",
      "source": [
        "import time\n",
        "st = time.time()\n",
        "\n",
        "def luas_segitiga(panjang,lebar,tinggi):\n",
        "  return (panjang*lebar*tinggi)/2\n",
        "luas_segitiga(2,3,4)\n",
        "et = time.time()\n",
        "elapsed_time = et - st\n",
        "print('Execution time:', elapsed_time, 'seconds')"
      ],
      "metadata": {
        "colab": {
          "base_uri": "https://localhost:8080/"
        },
        "id": "UKGS79oXAtSF",
        "outputId": "7a9b890e-b4aa-442c-ce65-d9ab375feb07"
      },
      "execution_count": null,
      "outputs": [
        {
          "output_type": "stream",
          "name": "stdout",
          "text": [
            "Execution time: 0.0001971721649169922 seconds\n"
          ]
        }
      ]
    },
    {
      "cell_type": "code",
      "source": [
        "import time\n",
        "st = time.time()\n",
        "class Sides:\n",
        "  def __init__(self,a, b, c):\n",
        "    self.a = a\n",
        "    self.b = b\n",
        "    self.c = c\n",
        "class A(Sides):\n",
        "  def area(self):\n",
        "    s = (self.a * self.b * self.c)/2\n",
        "    return s\n",
        "t = A(2,3,4)\n",
        "print(\"area of Triangle : {}\".format(t.area()))\n",
        "et = time.time()\n",
        "elapsed_time = et - st\n",
        "print('Execution time:', elapsed_time, 'seconds')"
      ],
      "metadata": {
        "colab": {
          "base_uri": "https://localhost:8080/"
        },
        "id": "n-TvPsaaBJRj",
        "outputId": "8a1f3b74-8cab-4b8a-97f0-7b4a86278ad8"
      },
      "execution_count": null,
      "outputs": [
        {
          "output_type": "stream",
          "name": "stdout",
          "text": [
            "area of Triangle : 12.0\n",
            "Execution time: 0.0010166168212890625 seconds\n"
          ]
        }
      ]
    },
    {
      "cell_type": "code",
      "source": [
        "import time\n",
        "st = time.time()\n",
        "sg = lambda a,b,c: (a*b*c)/2\n",
        "sg(2,3,4)\n",
        "et = time.time()\n",
        "elapsed_time = et - st\n",
        "print('Execution time:', elapsed_time, 'seconds')"
      ],
      "metadata": {
        "colab": {
          "base_uri": "https://localhost:8080/"
        },
        "id": "ZeS4Tpw1BdCC",
        "outputId": "478d0318-d95d-4cda-f95b-30414309dab0"
      },
      "execution_count": null,
      "outputs": [
        {
          "output_type": "stream",
          "name": "stdout",
          "text": [
            "Execution time: 0.0001621246337890625 seconds\n"
          ]
        }
      ]
    },
    {
      "cell_type": "markdown",
      "source": [
        "Special Soal 5: Diberikan Algoritma Metode Bisection berikut:\n",
        "1. start\n",
        "2. Define function f(x)\n",
        "3. Choose initial guesses x0 and x1 such that f(x0)f(x1) < 0\n",
        "4. Choose pre-specified tolerable error e.\n",
        "5. Calculate new approximated root as x2 = (x0 + x1)/2\n",
        "6. Calculate f(x0)f(x2) a. if f(x0)f(x2) < 0 then x0 = x0 and x1 = x2 b. if f(x0)f(x2) > 0 then x0 = x2 and x1 = x1 c. if f(x0)f(x2) = 0 then goto (8)\n",
        "7. if |f(x2)| > e then goto (5) otherwise goto (8)\n",
        "8. Display x2 as root.\n",
        "9. Stop\n",
        "Buatlah prosedural programming dari persoalan di atas dan ubahlah dengan functional programming. lakukan dengan batas toleransi . dengan fungsi yang diberikan sebagai berikut: dan nilai a dan b adalah di antara 0 dan 1 (nilai antara tidak boleh 0 dan 1)"
      ],
      "metadata": {
        "id": "HrB911FmBkt5"
      }
    },
    {
      "cell_type": "code",
      "source": [
        "# Defining Function\n",
        "def f(x):\n",
        "  return x-2**-x\n",
        "# Implementing Bisection Method\n",
        "def bisection(x0,x1,e):\n",
        "  step = 1\n",
        "  print('\\n\\n*** BISECTION METHOD IMPLEMENTATION ***')\n",
        "  condition = True\n",
        "  while condition:\n",
        "    x2 = (x0 + x1)/2\n",
        "    print('Iteration-%d, x2 = %0.6f and f(x2) = %0.6f' % (step, x2, f(x2)))\n",
        "    if f(x0) * f(x2) < 0:\n",
        "      x1 = x2\n",
        "    else:\n",
        "      x0 = x2\n",
        "      step = step + 1\n",
        "      condition = abs(f(x2)) > e\n",
        "  print('\\nRequired Root is : %0.8f' % x2)\n",
        "\n",
        "# Input Section\n",
        "x0 = 0.01\n",
        "x1 = 1\n",
        "e = 1e-5\n",
        "\n",
        "# Checking Correctness of initial guess values and bisecting\n",
        "if f(x0) * f(x1) > 0.0:\n",
        "  print('Given guess values do not bracket the root.')\n",
        "  print('Try Again with different guess values.')\n",
        "else:\n",
        "  bisection(x0,x1,e)"
      ],
      "metadata": {
        "colab": {
          "base_uri": "https://localhost:8080/"
        },
        "id": "-qBi0huvCDdV",
        "outputId": "55595aa9-54e2-4bab-f5eb-141e8a66b82e"
      },
      "execution_count": null,
      "outputs": [
        {
          "output_type": "stream",
          "name": "stdout",
          "text": [
            "\n",
            "\n",
            "*** BISECTION METHOD IMPLEMENTATION ***\n",
            "Iteration-1, x2 = 0.505000 and f(x2) = -0.199660\n",
            "Iteration-2, x2 = 0.752500 and f(x2) = 0.158926\n",
            "Iteration-2, x2 = 0.628750 and f(x2) = -0.017987\n",
            "Iteration-3, x2 = 0.690625 and f(x2) = 0.071040\n",
            "Iteration-3, x2 = 0.659687 and f(x2) = 0.026672\n",
            "Iteration-3, x2 = 0.644219 and f(x2) = 0.004380\n",
            "Iteration-3, x2 = 0.636484 and f(x2) = -0.006794\n",
            "Iteration-4, x2 = 0.640352 and f(x2) = -0.001205\n",
            "Iteration-5, x2 = 0.642285 and f(x2) = 0.001588\n",
            "Iteration-5, x2 = 0.641318 and f(x2) = 0.000192\n",
            "Iteration-5, x2 = 0.640835 and f(x2) = -0.000507\n",
            "Iteration-6, x2 = 0.641077 and f(x2) = -0.000158\n",
            "Iteration-7, x2 = 0.641198 and f(x2) = 0.000017\n",
            "Iteration-7, x2 = 0.641137 and f(x2) = -0.000070\n",
            "Iteration-8, x2 = 0.641167 and f(x2) = -0.000027\n",
            "Iteration-9, x2 = 0.641182 and f(x2) = -0.000005\n",
            "\n",
            "Required Root is : 0.64118240\n"
          ]
        }
      ]
    },
    {
      "cell_type": "code",
      "source": [
        "print('\\tBISECTION METHOD')\n",
        "a=0\n",
        "b=3\n",
        "for i in range(8):\n",
        "  print('------------Iteration',i+1,'--------------------------')\n",
        "  print()\n",
        "  print('a= ', a)\n",
        "  print('b= ', b)\n",
        "  x = (a + b) / 2\n",
        "  print('x= ', x)\n",
        "  fa = 2*a - 5# Give the function here.\n",
        "  print('fa= ', fa)\n",
        "  fb = 2*b - 5# Give the function here.\n",
        "  print('fb= ', fb)\n",
        "  fx = 2*x - 5# Give the function here.\n",
        "  print('fx= ', fx)\n",
        "  print()\n",
        "  if (fa < 0 and fx < 0) or (fa > 0 and fx > 0):\n",
        "    a = x\n",
        "  else:\n",
        "    b = x"
      ],
      "metadata": {
        "colab": {
          "base_uri": "https://localhost:8080/"
        },
        "id": "Km228lwrChDi",
        "outputId": "6e63807a-2734-4ff2-8380-d648bce3de77"
      },
      "execution_count": null,
      "outputs": [
        {
          "output_type": "stream",
          "name": "stdout",
          "text": [
            "\tBISECTION METHOD\n",
            "------------Iteration 1 --------------------------\n",
            "\n",
            "a=  0\n",
            "b=  3\n",
            "x=  1.5\n",
            "fa=  -5\n",
            "fb=  1\n",
            "fx=  -2.0\n",
            "\n",
            "------------Iteration 2 --------------------------\n",
            "\n",
            "a=  1.5\n",
            "b=  3\n",
            "x=  2.25\n",
            "fa=  -2.0\n",
            "fb=  1\n",
            "fx=  -0.5\n",
            "\n",
            "------------Iteration 3 --------------------------\n",
            "\n",
            "a=  2.25\n",
            "b=  3\n",
            "x=  2.625\n",
            "fa=  -0.5\n",
            "fb=  1\n",
            "fx=  0.25\n",
            "\n",
            "------------Iteration 4 --------------------------\n",
            "\n",
            "a=  2.25\n",
            "b=  2.625\n",
            "x=  2.4375\n",
            "fa=  -0.5\n",
            "fb=  0.25\n",
            "fx=  -0.125\n",
            "\n",
            "------------Iteration 5 --------------------------\n",
            "\n",
            "a=  2.4375\n",
            "b=  2.625\n",
            "x=  2.53125\n",
            "fa=  -0.125\n",
            "fb=  0.25\n",
            "fx=  0.0625\n",
            "\n",
            "------------Iteration 6 --------------------------\n",
            "\n",
            "a=  2.4375\n",
            "b=  2.53125\n",
            "x=  2.484375\n",
            "fa=  -0.125\n",
            "fb=  0.0625\n",
            "fx=  -0.03125\n",
            "\n",
            "------------Iteration 7 --------------------------\n",
            "\n",
            "a=  2.484375\n",
            "b=  2.53125\n",
            "x=  2.5078125\n",
            "fa=  -0.03125\n",
            "fb=  0.0625\n",
            "fx=  0.015625\n",
            "\n",
            "------------Iteration 8 --------------------------\n",
            "\n",
            "a=  2.484375\n",
            "b=  2.5078125\n",
            "x=  2.49609375\n",
            "fa=  -0.03125\n",
            "fb=  0.015625\n",
            "fx=  -0.0078125\n",
            "\n"
          ]
        }
      ]
    }
  ]
}