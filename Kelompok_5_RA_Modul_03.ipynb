{
  "nbformat": 4,
  "nbformat_minor": 0,
  "metadata": {
    "colab": {
      "provenance": []
    },
    "kernelspec": {
      "name": "python3",
      "display_name": "Python 3"
    },
    "language_info": {
      "name": "python"
    }
  },
  "cells": [
    {
      "cell_type": "code",
      "execution_count": null,
      "metadata": {
        "colab": {
          "base_uri": "https://localhost:8080/"
        },
        "id": "yUlxyxBQGcDX",
        "outputId": "6f0529a8-af1d-4ffd-a9c6-cffcd1d9b28e"
      },
      "outputs": [
        {
          "output_type": "stream",
          "name": "stdout",
          "text": [
            "Masukkan fungsi matematika f(x): x**2 + 2*x\n",
            "Masukkan nilai x: 5\n",
            "Nilai derivatif numerik di titik x: 12.000009999724169\n"
          ]
        }
      ],
      "source": [
        "import sympy as sp\n",
        "\n",
        "def numerical_derivative(f, x, h=1e-5):\n",
        "    # Menggunakan definisi derivatif: f'(x) = (f(x + h) - f(x)) / h\n",
        "    derivative = (f(x + h) - f(x)) / h\n",
        "    return derivative\n",
        "\n",
        "def input_function():\n",
        "\n",
        "    # Meminta pengguna memasukkan fungsi\n",
        "    expression_str = input(\"Masukkan fungsi matematika f(x): \")\n",
        "\n",
        "    # Membuat simbol x\n",
        "    x = sp.Symbol('x')\n",
        "\n",
        "    try:\n",
        "        # Mengevaluasi ekspresi\n",
        "        expression = sp.sympify(expression_str)\n",
        "\n",
        "        # Membuat fungsi dari ekspresi\n",
        "        f = sp.lambdify(x, expression, 'numpy')\n",
        "\n",
        "        return f\n",
        "\n",
        "    except sp.SympifyError:\n",
        "        print(\"Ekspresi matematika tidak valid.\")\n",
        "        return None\n",
        "\n",
        "# Meminta pengguna memasukkan fungsi matematika\n",
        "user_function = input_function()\n",
        "\n",
        "if user_function:\n",
        "    # Meminta titik di mana derivatif akan dihitung\n",
        "    x_value = float(input(\"Masukkan nilai x: \"))\n",
        "\n",
        "    # Menghitung derivatif numerik menggunakan fungsi yang telah dibuat\n",
        "    numerical_deriv = numerical_derivative(user_function, x_value)\n",
        "\n",
        "    print(\"Nilai derivatif numerik di titik x:\", numerical_deriv)"
      ]
    }
  ]
}