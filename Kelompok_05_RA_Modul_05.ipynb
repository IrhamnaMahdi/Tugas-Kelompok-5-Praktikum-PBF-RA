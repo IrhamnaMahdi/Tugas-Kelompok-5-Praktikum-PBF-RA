{
  "nbformat": 4,
  "nbformat_minor": 0,
  "metadata": {
    "colab": {
      "provenance": []
    },
    "kernelspec": {
      "name": "python3",
      "display_name": "Python 3"
    },
    "language_info": {
      "name": "python"
    }
  },
  "cells": [
    {
      "cell_type": "code",
      "execution_count": null,
      "metadata": {
        "colab": {
          "base_uri": "https://localhost:8080/"
        },
        "id": "wdqOrtYdOgYH",
        "outputId": "d67e1598-aaf9-466d-de14-163d7b54e322"
      },
      "outputs": [
        {
          "output_type": "stream",
          "name": "stdout",
          "text": [
            "Email terjadwalkan terkirim pada 2024-04-26 08:00:00\n"
          ]
        }
      ],
      "source": [
        "import time\n",
        "import threading\n",
        "from datetime import datetime\n",
        "\n",
        "def Email(jam, menit):\n",
        "    def decorator(func):\n",
        "        def wrapper(*args, **kwargs):\n",
        "            x = datetime.now()\n",
        "            waktu = x.replace(hour=jam, minute=menit, second=0, microsecond=0)\n",
        "\n",
        "            if waktu < x:\n",
        "                waktu = waktu.replace(day=waktu.day + 1)\n",
        "\n",
        "            waktupengiriman = (waktu - x).total_seconds()\n",
        "\n",
        "            def send_email():\n",
        "                time.sleep(waktupengiriman)\n",
        "                func(*args, **kwargs)\n",
        "\n",
        "            threading.Thread(target=send_email).start()\n",
        "            print(f\"Email terjadwalkan terkirim pada {waktu}\")\n",
        "\n",
        "        return wrapper\n",
        "    return decorator\n",
        "\n",
        "@Email(jam=8, menit=0)\n",
        "def jadwalkan():\n",
        "    print(\"Mengirim notifikasi email...\")\n",
        "\n",
        "jadwalkan()"
      ]
    }
  ]
}